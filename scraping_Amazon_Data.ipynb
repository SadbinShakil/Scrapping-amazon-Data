{
  "nbformat": 4,
  "nbformat_minor": 0,
  "metadata": {
    "colab": {
      "provenance": [],
      "authorship_tag": "ABX9TyP4MW5ZnHqkWX+b9OKcltQn",
      "include_colab_link": true
    },
    "kernelspec": {
      "name": "python3",
      "display_name": "Python 3"
    },
    "language_info": {
      "name": "python"
    }
  },
  "cells": [
    {
      "cell_type": "markdown",
      "metadata": {
        "id": "view-in-github",
        "colab_type": "text"
      },
      "source": [
        "<a href=\"https://colab.research.google.com/github/SadbinShakil/Scrapping-amazon-Data/blob/main/scraping_Amazon_Data.ipynb\" target=\"_parent\"><img src=\"https://colab.research.google.com/assets/colab-badge.svg\" alt=\"Open In Colab\"/></a>"
      ]
    },
    {
      "cell_type": "code",
      "execution_count": null,
      "metadata": {
        "colab": {
          "base_uri": "https://localhost:8080/"
        },
        "id": "_wNYb_08KDV-",
        "outputId": "184379b4-a07a-465a-92c9-d73c585e5a9d"
      },
      "outputs": [
        {
          "output_type": "stream",
          "name": "stdout",
          "text": [
            "Requirement already satisfied: bs4 in /usr/local/lib/python3.10/dist-packages (0.0.2)\n",
            "Requirement already satisfied: beautifulsoup4 in /usr/local/lib/python3.10/dist-packages (from bs4) (4.11.2)\n",
            "Requirement already satisfied: soupsieve>1.2 in /usr/local/lib/python3.10/dist-packages (from beautifulsoup4->bs4) (2.5)\n"
          ]
        }
      ],
      "source": [
        "#it will install beautiful soup in your PC\n",
        "!pip install bs4"
      ]
    },
    {
      "cell_type": "code",
      "source": [
        "#Cz we will send request from our local pc to amazon website\n",
        "!pip install requests"
      ],
      "metadata": {
        "colab": {
          "base_uri": "https://localhost:8080/"
        },
        "id": "4b0kEGfvKPRl",
        "outputId": "1f2b97eb-a075-4e9a-96b4-dd87ae599a1d"
      },
      "execution_count": null,
      "outputs": [
        {
          "output_type": "stream",
          "name": "stdout",
          "text": [
            "Requirement already satisfied: requests in /usr/local/lib/python3.10/dist-packages (2.31.0)\n",
            "Requirement already satisfied: charset-normalizer<4,>=2 in /usr/local/lib/python3.10/dist-packages (from requests) (3.3.2)\n",
            "Requirement already satisfied: idna<4,>=2.5 in /usr/local/lib/python3.10/dist-packages (from requests) (3.6)\n",
            "Requirement already satisfied: urllib3<3,>=1.21.1 in /usr/local/lib/python3.10/dist-packages (from requests) (2.0.7)\n",
            "Requirement already satisfied: certifi>=2017.4.17 in /usr/local/lib/python3.10/dist-packages (from requests) (2023.11.17)\n"
          ]
        }
      ]
    },
    {
      "cell_type": "code",
      "source": [
        "import pandas as pd\n",
        "import numpy as np\n",
        "from bs4 import BeautifulSoup\n",
        "import requests"
      ],
      "metadata": {
        "id": "AHlDbqMaKPO1"
      },
      "execution_count": null,
      "outputs": []
    },
    {
      "cell_type": "code",
      "source": [
        "URL = \"https://www.amazon.in/s?k=ps5&crid=PLFTP7YZE04E&sprefix=ps%2Caps%2C582&ref=nb_sb_noss_2\"\n",
        "#User agent from what is my user agent website\n",
        "HEADERS = {\"user-agent\": \"Mozilla/5.0 (Windows NT 10.0; Win64; x64) AppleWebKit/537.36 (KHTML, like Gecko) Chrome/74.0.3729.169 Safari/537.36\" ,'referer':'https://www.google.com/'}"
      ],
      "metadata": {
        "id": "DBuTLecbKPJ7"
      },
      "execution_count": null,
      "outputs": []
    },
    {
      "cell_type": "code",
      "source": [
        "#As we already declared the header, Now we will be making request for the available site\n",
        "webpage = requests.get(URL,headers=HEADERS)"
      ],
      "metadata": {
        "id": "jlHzy6deKPHL"
      },
      "execution_count": null,
      "outputs": []
    },
    {
      "cell_type": "code",
      "source": [
        "#Now check wheather I got the response (200) or not\n",
        "webpage"
      ],
      "metadata": {
        "colab": {
          "base_uri": "https://localhost:8080/"
        },
        "id": "Eyk24wIvKPEk",
        "outputId": "3ffa19f5-dee8-48db-9eeb-5ebf3f717e7e"
      },
      "execution_count": null,
      "outputs": [
        {
          "output_type": "execute_result",
          "data": {
            "text/plain": [
              "<Response [200]>"
            ]
          },
          "metadata": {},
          "execution_count": 18
        }
      ]
    },
    {
      "cell_type": "code",
      "source": [
        "#seeing the content of that webpage\n",
        "webpage.content"
      ],
      "metadata": {
        "id": "Wu90uvd4KPB2"
      },
      "execution_count": null,
      "outputs": []
    },
    {
      "cell_type": "code",
      "source": [
        "type(webpage.content)"
      ],
      "metadata": {
        "colab": {
          "base_uri": "https://localhost:8080/"
        },
        "id": "uq_QfIHjKO_C",
        "outputId": "3393fbe9-e8c0-40d7-bda1-d80d504b64b9"
      },
      "execution_count": null,
      "outputs": [
        {
          "output_type": "execute_result",
          "data": {
            "text/plain": [
              "bytes"
            ]
          },
          "metadata": {},
          "execution_count": 20
        }
      ]
    },
    {
      "cell_type": "code",
      "source": [
        "#so its in the byte format and we need it in the HTML format. so we will use soup\n",
        "soup = BeautifulSoup(webpage.content, \"html.parser\")\n",
        "soup"
      ],
      "metadata": {
        "id": "1JPlwzuCKO8f"
      },
      "execution_count": null,
      "outputs": []
    },
    {
      "cell_type": "code",
      "source": [
        "#now this is on proper html format\n",
        "type(soup)"
      ],
      "metadata": {
        "colab": {
          "base_uri": "https://localhost:8080/"
        },
        "id": "N5BZ8HPqKO5q",
        "outputId": "bff0be25-781c-4045-c60a-74e24de4ca8b"
      },
      "execution_count": null,
      "outputs": [
        {
          "output_type": "execute_result",
          "data": {
            "text/plain": [
              "bs4.BeautifulSoup"
            ]
          },
          "metadata": {},
          "execution_count": 8
        }
      ]
    },
    {
      "cell_type": "code",
      "source": [
        "All_links = soup.find_all(\"a\", attrs={'class': 'a-size-base a-link-normal s-underline-text s-underline-link-text s-link-style a-text-bold'})"
      ],
      "metadata": {
        "id": "Yd7UEOxaKO3I"
      },
      "execution_count": null,
      "outputs": []
    },
    {
      "cell_type": "code",
      "source": [
        "All_links[0]"
      ],
      "metadata": {
        "colab": {
          "base_uri": "https://localhost:8080/"
        },
        "id": "Tm_FzurtKO0M",
        "outputId": "380b3ecc-c979-43f2-8852-f934d7c6b34e"
      },
      "execution_count": null,
      "outputs": [
        {
          "output_type": "execute_result",
          "data": {
            "text/plain": [
              "<a class=\"a-size-base a-link-normal s-underline-text s-underline-link-text s-link-style a-text-bold\" href=\"/sspa/click?ie=UTF8&amp;spc=MToxNjcwODM2ODcwNjMzMDMxOjE3MDY3NjI1NDk6c3BfYXRmOjMwMDEwNzgyNTkyMTUzMjo6MDo6&amp;url=%2FPSS-Playstation-Anti-Scratch-Protective-Replacement%2Fdp%2FB0CJCC1BYK%2Fref%3Dsr_1_1_sspa%3Fcrid%3DPLFTP7YZE04E%26keywords%3Dps5%26qid%3D1706762549%26sprefix%3Dps%252Caps%252C582%26sr%3D8-1-spons%26sp_csd%3Dd2lkZ2V0TmFtZT1zcF9hdGY%26psc%3D1\">PlayStation 5</a>"
            ]
          },
          "metadata": {},
          "execution_count": 25
        }
      ]
    },
    {
      "cell_type": "code",
      "source": [
        "# get only the link from a tag\n",
        "link = All_links[1].get('href')"
      ],
      "metadata": {
        "id": "5nqVhDqYKOxq"
      },
      "execution_count": null,
      "outputs": []
    },
    {
      "cell_type": "code",
      "source": [
        "#we are getting the half link and we need to append something with it\n",
        "product_link = \"https://amazon.in\" + link"
      ],
      "metadata": {
        "id": "V0FxH7TPKOu6"
      },
      "execution_count": null,
      "outputs": []
    },
    {
      "cell_type": "code",
      "source": [
        "product_link"
      ],
      "metadata": {
        "colab": {
          "base_uri": "https://localhost:8080/",
          "height": 35
        },
        "id": "R7mcKaFPKOsj",
        "outputId": "c5dd4d4e-4cd3-4808-a20d-39252d41478c"
      },
      "execution_count": null,
      "outputs": [
        {
          "output_type": "execute_result",
          "data": {
            "text/plain": [
              "'https://amazon.in/Sony-PS5-Digital-Standalone/dp/B0BSNHFVL4/ref=sr_1_2?crid=PLFTP7YZE04E&keywords=ps5&qid=1706762549&sprefix=ps%2Caps%2C582&sr=8-2'"
            ],
            "application/vnd.google.colaboratory.intrinsic+json": {
              "type": "string"
            }
          },
          "metadata": {},
          "execution_count": 33
        }
      ]
    },
    {
      "cell_type": "code",
      "source": [
        "#now from that new webpage, lets find some info\n",
        "webpage = requests.get(product_link,headers=HEADERS)\n",
        "webpage"
      ],
      "metadata": {
        "colab": {
          "base_uri": "https://localhost:8080/"
        },
        "id": "t-bRqk8VKOpz",
        "outputId": "e751384c-3382-453c-d58a-886dae9013a0"
      },
      "execution_count": null,
      "outputs": [
        {
          "output_type": "execute_result",
          "data": {
            "text/plain": [
              "<Response [200]>"
            ]
          },
          "metadata": {},
          "execution_count": 34
        }
      ]
    },
    {
      "cell_type": "code",
      "source": [
        "soup = BeautifulSoup(webpage.content, \"html.parser\")\n",
        "soup"
      ],
      "metadata": {
        "id": "Y-3cnGIhKOkh"
      },
      "execution_count": null,
      "outputs": []
    },
    {
      "cell_type": "code",
      "source": [
        "soup.find(\"h1\", attrs={'id': 'title'})"
      ],
      "metadata": {
        "colab": {
          "base_uri": "https://localhost:8080/"
        },
        "id": "hcVyhXenKOhy",
        "outputId": "ec584c50-4f99-45e9-9d54-dc927bb909bd"
      },
      "execution_count": null,
      "outputs": [
        {
          "output_type": "execute_result",
          "data": {
            "text/plain": [
              "<h1 class=\"a-size-large a-spacing-none\" id=\"title\"> <span class=\"a-size-large product-title-word-break\" id=\"productTitle\">        Sony PS5 Console Digital Standalone       </span> </h1>"
            ]
          },
          "metadata": {},
          "execution_count": 44
        }
      ]
    },
    {
      "cell_type": "code",
      "source": [
        "#only to get the text\n",
        "soup.find(\"h1\", attrs={'id': 'title'}).text"
      ],
      "metadata": {
        "colab": {
          "base_uri": "https://localhost:8080/",
          "height": 35
        },
        "id": "tytnAWtxAd9X",
        "outputId": "241297c6-7e9f-4aa1-cfce-30e5da3e2538"
      },
      "execution_count": null,
      "outputs": [
        {
          "output_type": "execute_result",
          "data": {
            "text/plain": [
              "'         Sony PS5 Console Digital Standalone        '"
            ],
            "application/vnd.google.colaboratory.intrinsic+json": {
              "type": "string"
            }
          },
          "metadata": {},
          "execution_count": 43
        }
      ]
    },
    {
      "cell_type": "code",
      "source": [
        "#Remove empty spaces\n",
        "soup.find(\"h1\", attrs={'id': 'title'}).text.strip()"
      ],
      "metadata": {
        "colab": {
          "base_uri": "https://localhost:8080/",
          "height": 35
        },
        "id": "vWyo7868Ad59",
        "outputId": "1040d1f6-43f9-418c-9527-82bacd62b109"
      },
      "execution_count": null,
      "outputs": [
        {
          "output_type": "execute_result",
          "data": {
            "text/plain": [
              "'Sony PS5 Console Digital Standalone'"
            ],
            "application/vnd.google.colaboratory.intrinsic+json": {
              "type": "string"
            }
          },
          "metadata": {},
          "execution_count": 45
        }
      ]
    },
    {
      "cell_type": "code",
      "source": [
        "#find the price\n",
        "soup.find(\"span\", attrs={'class': 'a-price aok-align-center reinventPricePriceToPayMargin priceToPay'})"
      ],
      "metadata": {
        "colab": {
          "base_uri": "https://localhost:8080/"
        },
        "id": "UyLFjWF5Ad2N",
        "outputId": "2e92bf64-d4fb-493f-b695-5f4e99ac2256"
      },
      "execution_count": null,
      "outputs": [
        {
          "output_type": "execute_result",
          "data": {
            "text/plain": [
              "<span class=\"a-price aok-align-center reinventPricePriceToPayMargin priceToPay\" data-a-color=\"base\" data-a-size=\"xl\"><span class=\"a-offscreen\">₹44,987</span><span aria-hidden=\"true\"><span class=\"a-price-symbol\">₹</span><span class=\"a-price-whole\">44,987</span></span></span>"
            ]
          },
          "metadata": {},
          "execution_count": 51
        }
      ]
    },
    {
      "cell_type": "code",
      "source": [
        "soup.find(\"span\", attrs={'class': 'a-price aok-align-center reinventPricePriceToPayMargin priceToPay'}).text"
      ],
      "metadata": {
        "colab": {
          "base_uri": "https://localhost:8080/",
          "height": 35
        },
        "id": "TkyGCtUhE7-U",
        "outputId": "dac906e1-905d-423d-e4a8-1c29d04226fd"
      },
      "execution_count": null,
      "outputs": [
        {
          "output_type": "execute_result",
          "data": {
            "text/plain": [
              "'₹44,987₹44,987'"
            ],
            "application/vnd.google.colaboratory.intrinsic+json": {
              "type": "string"
            }
          },
          "metadata": {},
          "execution_count": 52
        }
      ]
    },
    {
      "cell_type": "code",
      "source": [
        "#As we are getting hidden plus actual price, I need to remove the hidden price\n",
        "soup.find(\"span\", attrs={'class': 'a-price aok-align-center reinventPricePriceToPayMargin priceToPay'}).find(\"span\", attrs={\"class\": \"a-offscreen\"}).text"
      ],
      "metadata": {
        "colab": {
          "base_uri": "https://localhost:8080/",
          "height": 35
        },
        "id": "HPRDy1WHAdvV",
        "outputId": "69be6441-c21e-4a2b-95c2-b80b82031e3a"
      },
      "execution_count": null,
      "outputs": [
        {
          "output_type": "execute_result",
          "data": {
            "text/plain": [
              "'₹44,987'"
            ],
            "application/vnd.google.colaboratory.intrinsic+json": {
              "type": "string"
            }
          },
          "metadata": {},
          "execution_count": 53
        }
      ]
    },
    {
      "cell_type": "markdown",
      "source": [
        "## ## **As we already did all the things part by part, now lets make the code meaningful:**"
      ],
      "metadata": {
        "id": "bDhC4OrWF0Ma"
      }
    },
    {
      "cell_type": "code",
      "source": [
        "from bs4 import BeautifulSoup\n",
        "import requests\n",
        "import pandas as pd\n",
        "import numpy as np"
      ],
      "metadata": {
        "id": "lOfCEuURAdsZ"
      },
      "execution_count": null,
      "outputs": []
    },
    {
      "cell_type": "code",
      "source": [
        "# Function to extract Product Title\n",
        "def get_title(soup):\n",
        "\n",
        "    try:\n",
        "        # Outer Tag Object\n",
        "        title = soup.find(\"span\", attrs={\"id\":'productTitle'})\n",
        "\n",
        "        # Inner NavigatableString Object\n",
        "        title_value = title.text\n",
        "\n",
        "        # Title as a string value\n",
        "        title_string = title_value.strip()\n",
        "\n",
        "    except AttributeError:\n",
        "        title_string = \"\"\n",
        "\n",
        "    return title_string\n",
        "\n",
        "# Function to extract Product Price\n",
        "def get_price(soup):\n",
        "\n",
        "    try:\n",
        "        price = soup.find(\"span\", attrs={'id':'priceblock_ourprice'}).string.strip()\n",
        "\n",
        "    except AttributeError:\n",
        "\n",
        "        try:\n",
        "            # If there is some deal price\n",
        "            price = soup.find(\"span\", attrs={'id':'priceblock_dealprice'}).string.strip()\n",
        "\n",
        "        except:\n",
        "            price = \"\"\n",
        "\n",
        "    return price\n",
        "\n",
        "# Function to extract Product Rating\n",
        "def get_rating(soup):\n",
        "\n",
        "    try:\n",
        "        rating = soup.find(\"i\", attrs={'class':'a-icon a-icon-star a-star-4-5'}).string.strip()\n",
        "\n",
        "    except AttributeError:\n",
        "        try:\n",
        "            rating = soup.find(\"span\", attrs={'class':'a-icon-alt'}).string.strip()\n",
        "        except:\n",
        "            rating = \"\"\n",
        "\n",
        "    return rating\n",
        "\n",
        "# Function to extract Number of User Reviews\n",
        "def get_review_count(soup):\n",
        "    try:\n",
        "        review_count = soup.find(\"span\", attrs={'id':'acrCustomerReviewText'}).string.strip()\n",
        "\n",
        "    except AttributeError:\n",
        "        review_count = \"\"\n",
        "\n",
        "    return review_count\n",
        "\n",
        "# Function to extract Availability Status\n",
        "def get_availability(soup):\n",
        "    try:\n",
        "        available = soup.find(\"div\", attrs={'id':'availability'})\n",
        "        available = available.find(\"span\").string.strip()\n",
        "\n",
        "    except AttributeError:\n",
        "        available = \"Not Available\"\n",
        "\n",
        "    return available"
      ],
      "metadata": {
        "id": "l2yRrd3QAdpK"
      },
      "execution_count": null,
      "outputs": []
    },
    {
      "cell_type": "code",
      "source": [
        "if __name__ == '__main__':\n",
        "\n",
        "    # add your user agent\n",
        "    HEADERS = ({'User-Agent':'', 'Accept-Language': 'en-US, en;q=0.5'})\n",
        "\n",
        "    # The webpage URL\n",
        "    URL = \"https://www.amazon.in/s?k=ps5&crid=VC1ESD53NDYB&sprefix=p%2Caps%2C806&ref=nb_sb_noss_2\"\n",
        "\n",
        "    # HTTP Request\n",
        "    webpage = requests.get(URL, headers=HEADERS)\n",
        "\n",
        "    # Soup Object containing all data\n",
        "    soup = BeautifulSoup(webpage.content, \"html.parser\")\n",
        "\n",
        "    # Fetch links as List of Tag Objects\n",
        "    links = soup.find_all(\"a\", attrs={'class':'a-link-normal s-no-outline'})\n",
        "\n",
        "    # Store the links\n",
        "    links_list = []\n",
        "\n",
        "    # Loop for extracting links from Tag Objects\n",
        "    for link in links:\n",
        "            links_list.append(link.get('href'))\n",
        "\n",
        "    d = {\"title\":[], \"price\":[], \"rating\":[], \"reviews\":[],\"availability\":[]}\n",
        "\n",
        "    # Loop for extracting product details from each link\n",
        "    for link in links_list:\n",
        "        new_webpage = requests.get(\"https://www.amazon.in\" + link, headers=HEADERS)\n",
        "\n",
        "        new_soup = BeautifulSoup(new_webpage.content, \"html.parser\")\n",
        "\n",
        "        # Function calls to display all necessary product information\n",
        "        d['title'].append(get_title(new_soup))\n",
        "        d['price'].append(get_price(new_soup))\n",
        "        d['rating'].append(get_rating(new_soup))\n",
        "        d['reviews'].append(get_review_count(new_soup))\n",
        "        d['availability'].append(get_availability(new_soup))\n",
        "\n",
        "\n",
        "    amazon_df = pd.DataFrame.from_dict(d)\n",
        "    amazon_df['title'].replace('', np.nan, inplace=True)\n",
        "    amazon_df = amazon_df.dropna(subset=['title'])\n",
        "    amazon_df.to_csv(\"amazon_data.csv\", header=True, index=False)"
      ],
      "metadata": {
        "id": "LPU245YZAdmu"
      },
      "execution_count": null,
      "outputs": []
    },
    {
      "cell_type": "code",
      "source": [
        "amazon_df.head()"
      ],
      "metadata": {
        "colab": {
          "base_uri": "https://localhost:8080/",
          "height": 206
        },
        "id": "WQirJddzAdjl",
        "outputId": "f4f924d6-5354-4e72-e20e-bf3d39962f1a"
      },
      "execution_count": null,
      "outputs": [
        {
          "output_type": "execute_result",
          "data": {
            "text/plain": [
              "                                               title price  \\\n",
              "0  PSS PS5 Faceplate for Playstation 5 Disc Editi...         \n",
              "1                Sony PS5 Console Digital Standalone         \n",
              "2                                   Sony PS5 Console         \n",
              "3  Sony PS5 Console - Call of Duty Modern Warfare...         \n",
              "4         Sony PS5 Console Standard DualSense bundle         \n",
              "\n",
              "               rating        reviews availability  \n",
              "0  5.0 out of 5 stars      4 ratings     In stock  \n",
              "1  4.7 out of 5 stars    473 ratings     In stock  \n",
              "2  4.6 out of 5 stars  1,340 ratings     In stock  \n",
              "3  4.7 out of 5 stars     33 ratings     In stock  \n",
              "4  4.6 out of 5 stars     79 ratings     In stock  "
            ],
            "text/html": [
              "\n",
              "  <div id=\"df-4cef2e32-1d65-494e-98fb-32f94c3edd10\" class=\"colab-df-container\">\n",
              "    <div>\n",
              "<style scoped>\n",
              "    .dataframe tbody tr th:only-of-type {\n",
              "        vertical-align: middle;\n",
              "    }\n",
              "\n",
              "    .dataframe tbody tr th {\n",
              "        vertical-align: top;\n",
              "    }\n",
              "\n",
              "    .dataframe thead th {\n",
              "        text-align: right;\n",
              "    }\n",
              "</style>\n",
              "<table border=\"1\" class=\"dataframe\">\n",
              "  <thead>\n",
              "    <tr style=\"text-align: right;\">\n",
              "      <th></th>\n",
              "      <th>title</th>\n",
              "      <th>price</th>\n",
              "      <th>rating</th>\n",
              "      <th>reviews</th>\n",
              "      <th>availability</th>\n",
              "    </tr>\n",
              "  </thead>\n",
              "  <tbody>\n",
              "    <tr>\n",
              "      <th>0</th>\n",
              "      <td>PSS PS5 Faceplate for Playstation 5 Disc Editi...</td>\n",
              "      <td></td>\n",
              "      <td>5.0 out of 5 stars</td>\n",
              "      <td>4 ratings</td>\n",
              "      <td>In stock</td>\n",
              "    </tr>\n",
              "    <tr>\n",
              "      <th>1</th>\n",
              "      <td>Sony PS5 Console Digital Standalone</td>\n",
              "      <td></td>\n",
              "      <td>4.7 out of 5 stars</td>\n",
              "      <td>473 ratings</td>\n",
              "      <td>In stock</td>\n",
              "    </tr>\n",
              "    <tr>\n",
              "      <th>2</th>\n",
              "      <td>Sony PS5 Console</td>\n",
              "      <td></td>\n",
              "      <td>4.6 out of 5 stars</td>\n",
              "      <td>1,340 ratings</td>\n",
              "      <td>In stock</td>\n",
              "    </tr>\n",
              "    <tr>\n",
              "      <th>3</th>\n",
              "      <td>Sony PS5 Console - Call of Duty Modern Warfare...</td>\n",
              "      <td></td>\n",
              "      <td>4.7 out of 5 stars</td>\n",
              "      <td>33 ratings</td>\n",
              "      <td>In stock</td>\n",
              "    </tr>\n",
              "    <tr>\n",
              "      <th>4</th>\n",
              "      <td>Sony PS5 Console Standard DualSense bundle</td>\n",
              "      <td></td>\n",
              "      <td>4.6 out of 5 stars</td>\n",
              "      <td>79 ratings</td>\n",
              "      <td>In stock</td>\n",
              "    </tr>\n",
              "  </tbody>\n",
              "</table>\n",
              "</div>\n",
              "    <div class=\"colab-df-buttons\">\n",
              "\n",
              "  <div class=\"colab-df-container\">\n",
              "    <button class=\"colab-df-convert\" onclick=\"convertToInteractive('df-4cef2e32-1d65-494e-98fb-32f94c3edd10')\"\n",
              "            title=\"Convert this dataframe to an interactive table.\"\n",
              "            style=\"display:none;\">\n",
              "\n",
              "  <svg xmlns=\"http://www.w3.org/2000/svg\" height=\"24px\" viewBox=\"0 -960 960 960\">\n",
              "    <path d=\"M120-120v-720h720v720H120Zm60-500h600v-160H180v160Zm220 220h160v-160H400v160Zm0 220h160v-160H400v160ZM180-400h160v-160H180v160Zm440 0h160v-160H620v160ZM180-180h160v-160H180v160Zm440 0h160v-160H620v160Z\"/>\n",
              "  </svg>\n",
              "    </button>\n",
              "\n",
              "  <style>\n",
              "    .colab-df-container {\n",
              "      display:flex;\n",
              "      gap: 12px;\n",
              "    }\n",
              "\n",
              "    .colab-df-convert {\n",
              "      background-color: #E8F0FE;\n",
              "      border: none;\n",
              "      border-radius: 50%;\n",
              "      cursor: pointer;\n",
              "      display: none;\n",
              "      fill: #1967D2;\n",
              "      height: 32px;\n",
              "      padding: 0 0 0 0;\n",
              "      width: 32px;\n",
              "    }\n",
              "\n",
              "    .colab-df-convert:hover {\n",
              "      background-color: #E2EBFA;\n",
              "      box-shadow: 0px 1px 2px rgba(60, 64, 67, 0.3), 0px 1px 3px 1px rgba(60, 64, 67, 0.15);\n",
              "      fill: #174EA6;\n",
              "    }\n",
              "\n",
              "    .colab-df-buttons div {\n",
              "      margin-bottom: 4px;\n",
              "    }\n",
              "\n",
              "    [theme=dark] .colab-df-convert {\n",
              "      background-color: #3B4455;\n",
              "      fill: #D2E3FC;\n",
              "    }\n",
              "\n",
              "    [theme=dark] .colab-df-convert:hover {\n",
              "      background-color: #434B5C;\n",
              "      box-shadow: 0px 1px 3px 1px rgba(0, 0, 0, 0.15);\n",
              "      filter: drop-shadow(0px 1px 2px rgba(0, 0, 0, 0.3));\n",
              "      fill: #FFFFFF;\n",
              "    }\n",
              "  </style>\n",
              "\n",
              "    <script>\n",
              "      const buttonEl =\n",
              "        document.querySelector('#df-4cef2e32-1d65-494e-98fb-32f94c3edd10 button.colab-df-convert');\n",
              "      buttonEl.style.display =\n",
              "        google.colab.kernel.accessAllowed ? 'block' : 'none';\n",
              "\n",
              "      async function convertToInteractive(key) {\n",
              "        const element = document.querySelector('#df-4cef2e32-1d65-494e-98fb-32f94c3edd10');\n",
              "        const dataTable =\n",
              "          await google.colab.kernel.invokeFunction('convertToInteractive',\n",
              "                                                    [key], {});\n",
              "        if (!dataTable) return;\n",
              "\n",
              "        const docLinkHtml = 'Like what you see? Visit the ' +\n",
              "          '<a target=\"_blank\" href=https://colab.research.google.com/notebooks/data_table.ipynb>data table notebook</a>'\n",
              "          + ' to learn more about interactive tables.';\n",
              "        element.innerHTML = '';\n",
              "        dataTable['output_type'] = 'display_data';\n",
              "        await google.colab.output.renderOutput(dataTable, element);\n",
              "        const docLink = document.createElement('div');\n",
              "        docLink.innerHTML = docLinkHtml;\n",
              "        element.appendChild(docLink);\n",
              "      }\n",
              "    </script>\n",
              "  </div>\n",
              "\n",
              "\n",
              "<div id=\"df-e2f9c300-9aed-4315-88ca-fd4c27fe38fb\">\n",
              "  <button class=\"colab-df-quickchart\" onclick=\"quickchart('df-e2f9c300-9aed-4315-88ca-fd4c27fe38fb')\"\n",
              "            title=\"Suggest charts\"\n",
              "            style=\"display:none;\">\n",
              "\n",
              "<svg xmlns=\"http://www.w3.org/2000/svg\" height=\"24px\"viewBox=\"0 0 24 24\"\n",
              "     width=\"24px\">\n",
              "    <g>\n",
              "        <path d=\"M19 3H5c-1.1 0-2 .9-2 2v14c0 1.1.9 2 2 2h14c1.1 0 2-.9 2-2V5c0-1.1-.9-2-2-2zM9 17H7v-7h2v7zm4 0h-2V7h2v10zm4 0h-2v-4h2v4z\"/>\n",
              "    </g>\n",
              "</svg>\n",
              "  </button>\n",
              "\n",
              "<style>\n",
              "  .colab-df-quickchart {\n",
              "      --bg-color: #E8F0FE;\n",
              "      --fill-color: #1967D2;\n",
              "      --hover-bg-color: #E2EBFA;\n",
              "      --hover-fill-color: #174EA6;\n",
              "      --disabled-fill-color: #AAA;\n",
              "      --disabled-bg-color: #DDD;\n",
              "  }\n",
              "\n",
              "  [theme=dark] .colab-df-quickchart {\n",
              "      --bg-color: #3B4455;\n",
              "      --fill-color: #D2E3FC;\n",
              "      --hover-bg-color: #434B5C;\n",
              "      --hover-fill-color: #FFFFFF;\n",
              "      --disabled-bg-color: #3B4455;\n",
              "      --disabled-fill-color: #666;\n",
              "  }\n",
              "\n",
              "  .colab-df-quickchart {\n",
              "    background-color: var(--bg-color);\n",
              "    border: none;\n",
              "    border-radius: 50%;\n",
              "    cursor: pointer;\n",
              "    display: none;\n",
              "    fill: var(--fill-color);\n",
              "    height: 32px;\n",
              "    padding: 0;\n",
              "    width: 32px;\n",
              "  }\n",
              "\n",
              "  .colab-df-quickchart:hover {\n",
              "    background-color: var(--hover-bg-color);\n",
              "    box-shadow: 0 1px 2px rgba(60, 64, 67, 0.3), 0 1px 3px 1px rgba(60, 64, 67, 0.15);\n",
              "    fill: var(--button-hover-fill-color);\n",
              "  }\n",
              "\n",
              "  .colab-df-quickchart-complete:disabled,\n",
              "  .colab-df-quickchart-complete:disabled:hover {\n",
              "    background-color: var(--disabled-bg-color);\n",
              "    fill: var(--disabled-fill-color);\n",
              "    box-shadow: none;\n",
              "  }\n",
              "\n",
              "  .colab-df-spinner {\n",
              "    border: 2px solid var(--fill-color);\n",
              "    border-color: transparent;\n",
              "    border-bottom-color: var(--fill-color);\n",
              "    animation:\n",
              "      spin 1s steps(1) infinite;\n",
              "  }\n",
              "\n",
              "  @keyframes spin {\n",
              "    0% {\n",
              "      border-color: transparent;\n",
              "      border-bottom-color: var(--fill-color);\n",
              "      border-left-color: var(--fill-color);\n",
              "    }\n",
              "    20% {\n",
              "      border-color: transparent;\n",
              "      border-left-color: var(--fill-color);\n",
              "      border-top-color: var(--fill-color);\n",
              "    }\n",
              "    30% {\n",
              "      border-color: transparent;\n",
              "      border-left-color: var(--fill-color);\n",
              "      border-top-color: var(--fill-color);\n",
              "      border-right-color: var(--fill-color);\n",
              "    }\n",
              "    40% {\n",
              "      border-color: transparent;\n",
              "      border-right-color: var(--fill-color);\n",
              "      border-top-color: var(--fill-color);\n",
              "    }\n",
              "    60% {\n",
              "      border-color: transparent;\n",
              "      border-right-color: var(--fill-color);\n",
              "    }\n",
              "    80% {\n",
              "      border-color: transparent;\n",
              "      border-right-color: var(--fill-color);\n",
              "      border-bottom-color: var(--fill-color);\n",
              "    }\n",
              "    90% {\n",
              "      border-color: transparent;\n",
              "      border-bottom-color: var(--fill-color);\n",
              "    }\n",
              "  }\n",
              "</style>\n",
              "\n",
              "  <script>\n",
              "    async function quickchart(key) {\n",
              "      const quickchartButtonEl =\n",
              "        document.querySelector('#' + key + ' button');\n",
              "      quickchartButtonEl.disabled = true;  // To prevent multiple clicks.\n",
              "      quickchartButtonEl.classList.add('colab-df-spinner');\n",
              "      try {\n",
              "        const charts = await google.colab.kernel.invokeFunction(\n",
              "            'suggestCharts', [key], {});\n",
              "      } catch (error) {\n",
              "        console.error('Error during call to suggestCharts:', error);\n",
              "      }\n",
              "      quickchartButtonEl.classList.remove('colab-df-spinner');\n",
              "      quickchartButtonEl.classList.add('colab-df-quickchart-complete');\n",
              "    }\n",
              "    (() => {\n",
              "      let quickchartButtonEl =\n",
              "        document.querySelector('#df-e2f9c300-9aed-4315-88ca-fd4c27fe38fb button');\n",
              "      quickchartButtonEl.style.display =\n",
              "        google.colab.kernel.accessAllowed ? 'block' : 'none';\n",
              "    })();\n",
              "  </script>\n",
              "</div>\n",
              "    </div>\n",
              "  </div>\n"
            ]
          },
          "metadata": {},
          "execution_count": 63
        }
      ]
    },
    {
      "cell_type": "code",
      "source": [],
      "metadata": {
        "id": "u3CkGCcNAdhD"
      },
      "execution_count": null,
      "outputs": []
    },
    {
      "cell_type": "code",
      "source": [],
      "metadata": {
        "id": "O4hpVtDFAdd6"
      },
      "execution_count": null,
      "outputs": []
    },
    {
      "cell_type": "code",
      "source": [],
      "metadata": {
        "id": "_4vHkzqBAdbK"
      },
      "execution_count": null,
      "outputs": []
    }
  ]
}